{
 "cells": [
  {
   "cell_type": "code",
   "execution_count": 1,
   "metadata": {},
   "outputs": [],
   "source": [
    "import pandas as pd\n",
    "import numpy as np\n",
    "import plotly.express as px\n",
    "import matplotlib as plt\n",
    "import seaborn as sns"
   ]
  },
  {
   "cell_type": "code",
   "execution_count": 2,
   "metadata": {},
   "outputs": [],
   "source": [
    "df = pd.read_csv('datasets/usretechnicalpotential.csv')"
   ]
  },
  {
   "cell_type": "code",
   "execution_count": 3,
   "metadata": {},
   "outputs": [
    {
     "data": {
      "text/html": [
       "<div>\n",
       "<style scoped>\n",
       "    .dataframe tbody tr th:only-of-type {\n",
       "        vertical-align: middle;\n",
       "    }\n",
       "\n",
       "    .dataframe tbody tr th {\n",
       "        vertical-align: top;\n",
       "    }\n",
       "\n",
       "    .dataframe thead th {\n",
       "        text-align: right;\n",
       "    }\n",
       "</style>\n",
       "<table border=\"1\" class=\"dataframe\">\n",
       "  <thead>\n",
       "    <tr style=\"text-align: right;\">\n",
       "      <th></th>\n",
       "      <th>Unnamed: 0</th>\n",
       "      <th>urbanUtilityScalePV_GWh</th>\n",
       "      <th>urbanUtilityScalePV_GW</th>\n",
       "      <th>urbanUtilityScalePV_km2</th>\n",
       "      <th>ruralUtilityScalePV_GWh</th>\n",
       "      <th>ruralUtilityScalePV_GW</th>\n",
       "      <th>ruralUtilityScalePV_km2</th>\n",
       "      <th>rooftopPV_GWh</th>\n",
       "      <th>rooftopPV_GW</th>\n",
       "      <th>CSP_GWh</th>\n",
       "      <th>...</th>\n",
       "      <th>biopowerGaseous_GWh</th>\n",
       "      <th>biopowerGaseous_GW</th>\n",
       "      <th>biopowerGaseous_Tonnes-CH4</th>\n",
       "      <th>geothermalHydrothermal_GWh</th>\n",
       "      <th>geothermalHydrothermal_GW</th>\n",
       "      <th>EGSGeothermal_GWh</th>\n",
       "      <th>EGSGeothermal_GW</th>\n",
       "      <th>hydropower_GWh</th>\n",
       "      <th>hydropower_GW</th>\n",
       "      <th>hydropower_countOfSites</th>\n",
       "    </tr>\n",
       "  </thead>\n",
       "  <tbody>\n",
       "    <tr>\n",
       "      <th>0</th>\n",
       "      <td>Alabama</td>\n",
       "      <td>35850</td>\n",
       "      <td>20</td>\n",
       "      <td>426</td>\n",
       "      <td>3706838</td>\n",
       "      <td>2114</td>\n",
       "      <td>44058</td>\n",
       "      <td>15475.0</td>\n",
       "      <td>12</td>\n",
       "      <td>0</td>\n",
       "      <td>...</td>\n",
       "      <td>1533</td>\n",
       "      <td>0</td>\n",
       "      <td>326186</td>\n",
       "      <td>0</td>\n",
       "      <td>0</td>\n",
       "      <td>535489.0</td>\n",
       "      <td>67.0</td>\n",
       "      <td>4102</td>\n",
       "      <td>0</td>\n",
       "      <td>2435</td>\n",
       "    </tr>\n",
       "    <tr>\n",
       "      <th>1</th>\n",
       "      <td>Alaska</td>\n",
       "      <td>166</td>\n",
       "      <td>0</td>\n",
       "      <td>2</td>\n",
       "      <td>8282976</td>\n",
       "      <td>9005</td>\n",
       "      <td>187608</td>\n",
       "      <td>NaN</td>\n",
       "      <td>1</td>\n",
       "      <td>0</td>\n",
       "      <td>...</td>\n",
       "      <td>61</td>\n",
       "      <td>0</td>\n",
       "      <td>13156</td>\n",
       "      <td>15437</td>\n",
       "      <td>1</td>\n",
       "      <td>NaN</td>\n",
       "      <td>NaN</td>\n",
       "      <td>23675</td>\n",
       "      <td>5</td>\n",
       "      <td>3053</td>\n",
       "    </tr>\n",
       "    <tr>\n",
       "      <th>2</th>\n",
       "      <td>Arizona</td>\n",
       "      <td>121305</td>\n",
       "      <td>52</td>\n",
       "      <td>1096</td>\n",
       "      <td>11867693</td>\n",
       "      <td>5147</td>\n",
       "      <td>107230</td>\n",
       "      <td>22736.0</td>\n",
       "      <td>14</td>\n",
       "      <td>12544333</td>\n",
       "      <td>...</td>\n",
       "      <td>837</td>\n",
       "      <td>0</td>\n",
       "      <td>178188</td>\n",
       "      <td>8329</td>\n",
       "      <td>1</td>\n",
       "      <td>1239147.0</td>\n",
       "      <td>157.0</td>\n",
       "      <td>1303</td>\n",
       "      <td>0</td>\n",
       "      <td>1958</td>\n",
       "    </tr>\n",
       "    <tr>\n",
       "      <th>3</th>\n",
       "      <td>Arkansas</td>\n",
       "      <td>28960</td>\n",
       "      <td>15</td>\n",
       "      <td>332</td>\n",
       "      <td>4986388</td>\n",
       "      <td>2747</td>\n",
       "      <td>57239</td>\n",
       "      <td>8484.0</td>\n",
       "      <td>6</td>\n",
       "      <td>0</td>\n",
       "      <td>...</td>\n",
       "      <td>1063</td>\n",
       "      <td>0</td>\n",
       "      <td>226178</td>\n",
       "      <td>0</td>\n",
       "      <td>0</td>\n",
       "      <td>628621.0</td>\n",
       "      <td>79.0</td>\n",
       "      <td>6093</td>\n",
       "      <td>1</td>\n",
       "      <td>3268</td>\n",
       "    </tr>\n",
       "    <tr>\n",
       "      <th>4</th>\n",
       "      <td>California</td>\n",
       "      <td>246008</td>\n",
       "      <td>111</td>\n",
       "      <td>2320</td>\n",
       "      <td>8855917</td>\n",
       "      <td>4010</td>\n",
       "      <td>83549</td>\n",
       "      <td>106411.0</td>\n",
       "      <td>75</td>\n",
       "      <td>8490916</td>\n",
       "      <td>...</td>\n",
       "      <td>15510</td>\n",
       "      <td>1</td>\n",
       "      <td>3300211</td>\n",
       "      <td>130921</td>\n",
       "      <td>16</td>\n",
       "      <td>1344179.0</td>\n",
       "      <td>170.0</td>\n",
       "      <td>30023</td>\n",
       "      <td>6</td>\n",
       "      <td>9692</td>\n",
       "    </tr>\n",
       "  </tbody>\n",
       "</table>\n",
       "<p>5 rows × 31 columns</p>\n",
       "</div>"
      ],
      "text/plain": [
       "   Unnamed: 0  urbanUtilityScalePV_GWh  urbanUtilityScalePV_GW  \\\n",
       "0     Alabama                    35850                      20   \n",
       "1      Alaska                      166                       0   \n",
       "2     Arizona                   121305                      52   \n",
       "3    Arkansas                    28960                      15   \n",
       "4  California                   246008                     111   \n",
       "\n",
       "   urbanUtilityScalePV_km2  ruralUtilityScalePV_GWh  ruralUtilityScalePV_GW  \\\n",
       "0                      426                  3706838                    2114   \n",
       "1                        2                  8282976                    9005   \n",
       "2                     1096                 11867693                    5147   \n",
       "3                      332                  4986388                    2747   \n",
       "4                     2320                  8855917                    4010   \n",
       "\n",
       "   ruralUtilityScalePV_km2  rooftopPV_GWh  rooftopPV_GW   CSP_GWh  ...  \\\n",
       "0                    44058        15475.0            12         0  ...   \n",
       "1                   187608            NaN             1         0  ...   \n",
       "2                   107230        22736.0            14  12544333  ...   \n",
       "3                    57239         8484.0             6         0  ...   \n",
       "4                    83549       106411.0            75   8490916  ...   \n",
       "\n",
       "   biopowerGaseous_GWh  biopowerGaseous_GW  biopowerGaseous_Tonnes-CH4  \\\n",
       "0                 1533                   0                      326186   \n",
       "1                   61                   0                       13156   \n",
       "2                  837                   0                      178188   \n",
       "3                 1063                   0                      226178   \n",
       "4                15510                   1                     3300211   \n",
       "\n",
       "   geothermalHydrothermal_GWh  geothermalHydrothermal_GW  EGSGeothermal_GWh  \\\n",
       "0                           0                          0           535489.0   \n",
       "1                       15437                          1                NaN   \n",
       "2                        8329                          1          1239147.0   \n",
       "3                           0                          0           628621.0   \n",
       "4                      130921                         16          1344179.0   \n",
       "\n",
       "   EGSGeothermal_GW  hydropower_GWh  hydropower_GW  hydropower_countOfSites  \n",
       "0              67.0            4102              0                     2435  \n",
       "1               NaN           23675              5                     3053  \n",
       "2             157.0            1303              0                     1958  \n",
       "3              79.0            6093              1                     3268  \n",
       "4             170.0           30023              6                     9692  \n",
       "\n",
       "[5 rows x 31 columns]"
      ]
     },
     "execution_count": 3,
     "metadata": {},
     "output_type": "execute_result"
    }
   ],
   "source": [
    "df.head()"
   ]
  },
  {
   "cell_type": "code",
   "execution_count": 4,
   "metadata": {},
   "outputs": [
    {
     "data": {
      "text/plain": [
       "(51, 31)"
      ]
     },
     "execution_count": 4,
     "metadata": {},
     "output_type": "execute_result"
    }
   ],
   "source": [
    "df.shape"
   ]
  },
  {
   "cell_type": "code",
   "execution_count": 5,
   "metadata": {},
   "outputs": [
    {
     "data": {
      "text/plain": [
       "Index(['Unnamed: 0', 'urbanUtilityScalePV_GWh', 'urbanUtilityScalePV_GW',\n",
       "       'urbanUtilityScalePV_km2', 'ruralUtilityScalePV_GWh',\n",
       "       'ruralUtilityScalePV_GW', 'ruralUtilityScalePV_km2', 'rooftopPV_GWh',\n",
       "       'rooftopPV_GW', 'CSP_GWh', 'CSP_GW', 'CSP_km2', 'onshoreWind_GWh',\n",
       "       'onshoreWind_GW', 'onshoreWind_km2', 'offshoreWind_GWh',\n",
       "       'offshoreWind_GW', 'offshoreWind_km2', 'biopowerSolid_GWh',\n",
       "       'biopowerSolid_GW', 'biopowerSolid_BDT', 'biopowerGaseous_GWh',\n",
       "       'biopowerGaseous_GW', 'biopowerGaseous_Tonnes-CH4',\n",
       "       'geothermalHydrothermal_GWh', 'geothermalHydrothermal_GW',\n",
       "       'EGSGeothermal_GWh', 'EGSGeothermal_GW', 'hydropower_GWh',\n",
       "       'hydropower_GW', 'hydropower_countOfSites'],\n",
       "      dtype='object')"
      ]
     },
     "execution_count": 5,
     "metadata": {},
     "output_type": "execute_result"
    }
   ],
   "source": [
    "df.columns"
   ]
  },
  {
   "cell_type": "code",
   "execution_count": 6,
   "metadata": {},
   "outputs": [],
   "source": [
    "df.drop(['urbanUtilityScalePV_GW','urbanUtilityScalePV_km2','ruralUtilityScalePV_GW',\n",
    "        'ruralUtilityScalePV_km2','rooftopPV_GW','CSP_GW','CSP_km2','onshoreWind_GW',\n",
    "        'onshoreWind_km2','offshoreWind_GW','offshoreWind_km2','biopowerSolid_GW',\n",
    "        'biopowerSolid_BDT','biopowerGaseous_GW','geothermalHydrothermal_GW','EGSGeothermal_GW',\n",
    "        'hydropower_GW'],axis=1,inplace=True)"
   ]
  },
  {
   "cell_type": "code",
   "execution_count": 7,
   "metadata": {},
   "outputs": [
    {
     "data": {
      "text/plain": [
       "Index(['Unnamed: 0', 'urbanUtilityScalePV_GWh', 'ruralUtilityScalePV_GWh',\n",
       "       'rooftopPV_GWh', 'CSP_GWh', 'onshoreWind_GWh', 'offshoreWind_GWh',\n",
       "       'biopowerSolid_GWh', 'biopowerGaseous_GWh',\n",
       "       'biopowerGaseous_Tonnes-CH4', 'geothermalHydrothermal_GWh',\n",
       "       'EGSGeothermal_GWh', 'hydropower_GWh', 'hydropower_countOfSites'],\n",
       "      dtype='object')"
      ]
     },
     "execution_count": 7,
     "metadata": {},
     "output_type": "execute_result"
    }
   ],
   "source": [
    "df.columns"
   ]
  },
  {
   "cell_type": "code",
   "execution_count": 8,
   "metadata": {},
   "outputs": [],
   "source": [
    "df.rename({'Unnamed: 0':'State','urbanUtilityScalePV_GWh':'Urban Utility',\n",
    "            'ruralUtilityScalePV_GWh':'Rural Utility','rooftopPV_GWh':'Solar Photovoltic',\n",
    "            'CSP_GWh':'Solar Thermal','onshoreWind_GWh':'Onshore Wind','offshoreWind_GWh':'Offshore Wind',\n",
    "            'biopowerSolid_GWh':'Bio-Solid','biopowerGaseous_GWh':'Bio-gas','biopowerGaseous_Tonnes-CH4':'Bio-CH4',\n",
    "            'geothermalHydrothermal_GWh':'Hydrothermal','EGSGeothermal_GWh':'Enhanced Geothermal',\n",
    "            'hydropower_GWh':'Hydropower','hydropower_countOfSites':'Hydropower Sites Count'},axis=1,inplace=True)"
   ]
  },
  {
   "cell_type": "code",
   "execution_count": 9,
   "metadata": {},
   "outputs": [
    {
     "data": {
      "text/html": [
       "<div>\n",
       "<style scoped>\n",
       "    .dataframe tbody tr th:only-of-type {\n",
       "        vertical-align: middle;\n",
       "    }\n",
       "\n",
       "    .dataframe tbody tr th {\n",
       "        vertical-align: top;\n",
       "    }\n",
       "\n",
       "    .dataframe thead th {\n",
       "        text-align: right;\n",
       "    }\n",
       "</style>\n",
       "<table border=\"1\" class=\"dataframe\">\n",
       "  <thead>\n",
       "    <tr style=\"text-align: right;\">\n",
       "      <th></th>\n",
       "      <th>State</th>\n",
       "      <th>Urban Utility</th>\n",
       "      <th>Rural Utility</th>\n",
       "      <th>Solar Photovoltic</th>\n",
       "      <th>Solar Thermal</th>\n",
       "      <th>Onshore Wind</th>\n",
       "      <th>Offshore Wind</th>\n",
       "      <th>Bio-Solid</th>\n",
       "      <th>Bio-gas</th>\n",
       "      <th>Bio-CH4</th>\n",
       "      <th>Hydrothermal</th>\n",
       "      <th>Enhanced Geothermal</th>\n",
       "      <th>Hydropower</th>\n",
       "      <th>Hydropower Sites Count</th>\n",
       "    </tr>\n",
       "  </thead>\n",
       "  <tbody>\n",
       "    <tr>\n",
       "      <th>0</th>\n",
       "      <td>Alabama</td>\n",
       "      <td>35850</td>\n",
       "      <td>3706838</td>\n",
       "      <td>15475.0</td>\n",
       "      <td>0</td>\n",
       "      <td>283</td>\n",
       "      <td>0.0</td>\n",
       "      <td>11193</td>\n",
       "      <td>1533</td>\n",
       "      <td>326186</td>\n",
       "      <td>0</td>\n",
       "      <td>535489.0</td>\n",
       "      <td>4102</td>\n",
       "      <td>2435</td>\n",
       "    </tr>\n",
       "    <tr>\n",
       "      <th>1</th>\n",
       "      <td>Alaska</td>\n",
       "      <td>166</td>\n",
       "      <td>8282976</td>\n",
       "      <td>NaN</td>\n",
       "      <td>0</td>\n",
       "      <td>1373433</td>\n",
       "      <td>NaN</td>\n",
       "      <td>513</td>\n",
       "      <td>61</td>\n",
       "      <td>13156</td>\n",
       "      <td>15437</td>\n",
       "      <td>NaN</td>\n",
       "      <td>23675</td>\n",
       "      <td>3053</td>\n",
       "    </tr>\n",
       "    <tr>\n",
       "      <th>2</th>\n",
       "      <td>Arizona</td>\n",
       "      <td>121305</td>\n",
       "      <td>11867693</td>\n",
       "      <td>22736.0</td>\n",
       "      <td>12544333</td>\n",
       "      <td>26036</td>\n",
       "      <td>NaN</td>\n",
       "      <td>1087</td>\n",
       "      <td>837</td>\n",
       "      <td>178188</td>\n",
       "      <td>8329</td>\n",
       "      <td>1239147.0</td>\n",
       "      <td>1303</td>\n",
       "      <td>1958</td>\n",
       "    </tr>\n",
       "    <tr>\n",
       "      <th>3</th>\n",
       "      <td>Arkansas</td>\n",
       "      <td>28960</td>\n",
       "      <td>4986388</td>\n",
       "      <td>8484.0</td>\n",
       "      <td>0</td>\n",
       "      <td>22892</td>\n",
       "      <td>NaN</td>\n",
       "      <td>14381</td>\n",
       "      <td>1063</td>\n",
       "      <td>226178</td>\n",
       "      <td>0</td>\n",
       "      <td>628621.0</td>\n",
       "      <td>6093</td>\n",
       "      <td>3268</td>\n",
       "    </tr>\n",
       "    <tr>\n",
       "      <th>4</th>\n",
       "      <td>California</td>\n",
       "      <td>246008</td>\n",
       "      <td>8855917</td>\n",
       "      <td>106411.0</td>\n",
       "      <td>8490916</td>\n",
       "      <td>89862</td>\n",
       "      <td>2662579.0</td>\n",
       "      <td>12408</td>\n",
       "      <td>15510</td>\n",
       "      <td>3300211</td>\n",
       "      <td>130921</td>\n",
       "      <td>1344179.0</td>\n",
       "      <td>30023</td>\n",
       "      <td>9692</td>\n",
       "    </tr>\n",
       "  </tbody>\n",
       "</table>\n",
       "</div>"
      ],
      "text/plain": [
       "        State  Urban Utility  Rural Utility  Solar Photovoltic  Solar Thermal  \\\n",
       "0     Alabama          35850        3706838            15475.0              0   \n",
       "1      Alaska            166        8282976                NaN              0   \n",
       "2     Arizona         121305       11867693            22736.0       12544333   \n",
       "3    Arkansas          28960        4986388             8484.0              0   \n",
       "4  California         246008        8855917           106411.0        8490916   \n",
       "\n",
       "   Onshore Wind  Offshore Wind  Bio-Solid  Bio-gas  Bio-CH4  Hydrothermal  \\\n",
       "0           283            0.0      11193     1533   326186             0   \n",
       "1       1373433            NaN        513       61    13156         15437   \n",
       "2         26036            NaN       1087      837   178188          8329   \n",
       "3         22892            NaN      14381     1063   226178             0   \n",
       "4         89862      2662579.0      12408    15510  3300211        130921   \n",
       "\n",
       "   Enhanced Geothermal  Hydropower  Hydropower Sites Count  \n",
       "0             535489.0        4102                    2435  \n",
       "1                  NaN       23675                    3053  \n",
       "2            1239147.0        1303                    1958  \n",
       "3             628621.0        6093                    3268  \n",
       "4            1344179.0       30023                    9692  "
      ]
     },
     "execution_count": 9,
     "metadata": {},
     "output_type": "execute_result"
    }
   ],
   "source": [
    "df.head()"
   ]
  },
  {
   "cell_type": "code",
   "execution_count": 10,
   "metadata": {},
   "outputs": [
    {
     "data": {
      "text/plain": [
       "State                      0\n",
       "Urban Utility              0\n",
       "Rural Utility              0\n",
       "Solar Photovoltic          2\n",
       "Solar Thermal              0\n",
       "Onshore Wind               0\n",
       "Offshore Wind             22\n",
       "Bio-Solid                  0\n",
       "Bio-gas                    0\n",
       "Bio-CH4                    0\n",
       "Hydrothermal               0\n",
       "Enhanced Geothermal        2\n",
       "Hydropower                 0\n",
       "Hydropower Sites Count     0\n",
       "dtype: int64"
      ]
     },
     "execution_count": 10,
     "metadata": {},
     "output_type": "execute_result"
    }
   ],
   "source": [
    "df.isna().sum()"
   ]
  },
  {
   "cell_type": "code",
   "execution_count": 11,
   "metadata": {},
   "outputs": [],
   "source": [
    "df.replace(np.nan,0,inplace=True)"
   ]
  },
  {
   "cell_type": "code",
   "execution_count": 12,
   "metadata": {},
   "outputs": [
    {
     "data": {
      "text/plain": [
       "0"
      ]
     },
     "execution_count": 12,
     "metadata": {},
     "output_type": "execute_result"
    }
   ],
   "source": [
    "df.duplicated().sum()"
   ]
  },
  {
   "cell_type": "code",
   "execution_count": 13,
   "metadata": {},
   "outputs": [
    {
     "data": {
      "text/plain": [
       "51"
      ]
     },
     "execution_count": 13,
     "metadata": {},
     "output_type": "execute_result"
    }
   ],
   "source": [
    "df['State'].nunique()"
   ]
  },
  {
   "cell_type": "code",
   "execution_count": 14,
   "metadata": {},
   "outputs": [
    {
     "data": {
      "text/plain": [
       "Index(['State', 'Urban Utility', 'Rural Utility', 'Solar Photovoltic',\n",
       "       'Solar Thermal', 'Onshore Wind', 'Offshore Wind', 'Bio-Solid',\n",
       "       'Bio-gas', 'Bio-CH4', 'Hydrothermal', 'Enhanced Geothermal',\n",
       "       'Hydropower', 'Hydropower Sites Count'],\n",
       "      dtype='object')"
      ]
     },
     "execution_count": 14,
     "metadata": {},
     "output_type": "execute_result"
    }
   ],
   "source": [
    "df.columns"
   ]
  },
  {
   "cell_type": "code",
   "execution_count": 15,
   "metadata": {},
   "outputs": [],
   "source": [
    "df.to_csv('datasets/dataset.csv')"
   ]
  },
  {
   "cell_type": "code",
   "execution_count": null,
   "metadata": {},
   "outputs": [],
   "source": [
    "px.bar(df,x='Urban Utility',y='State',color='State',title='Energy Usage in urban area',height=600)"
   ]
  },
  {
   "cell_type": "code",
   "execution_count": null,
   "metadata": {},
   "outputs": [],
   "source": [
    "px.bar(df,x='Rural Utility',y='State',color='State',title='Energy Usage in rural area',height=600)"
   ]
  },
  {
   "cell_type": "code",
   "execution_count": null,
   "metadata": {},
   "outputs": [],
   "source": [
    "sp_df=df.sort_values('Solar Photovoltic',ascending=False)\n",
    "sp_df=sp_df[:20]\n",
    "px.bar(sp_df,x='State',y='Solar Photovoltic',color='State',\n",
    "        title='States with highest Solar Photovotic Energy production',\n",
    "        labels={'x':'State','y':'Energy'})"
   ]
  },
  {
   "cell_type": "code",
   "execution_count": null,
   "metadata": {},
   "outputs": [],
   "source": [
    "st_df=df.sort_values('Solar Thermal',ascending=False)\n",
    "st_df=st_df[:15]\n",
    "px.bar(st_df,x='State',y='Solar Thermal',color='State',\n",
    "        title='States with highest Solar Thermal Energy production',\n",
    "        labels={'x':'State','y':'Energy'})"
   ]
  },
  {
   "cell_type": "code",
   "execution_count": null,
   "metadata": {},
   "outputs": [],
   "source": [
    "onw_df=df.sort_values('Onshore Wind',ascending=False)\n",
    "onw_df=onw_df[:17]\n",
    "px.bar(onw_df,x='State',y='Onshore Wind',color='State',\n",
    "        title='States with highest onshore wind Energy production',\n",
    "        labels={'x':'State','y':'Energy'})"
   ]
  },
  {
   "cell_type": "code",
   "execution_count": null,
   "metadata": {},
   "outputs": [],
   "source": [
    "ofw_df=df.sort_values('Offshore Wind',ascending=False)\n",
    "ofw_df=ofw_df[:20]\n",
    "px.bar(ofw_df,x='State',y='Offshore Wind',color='State',\n",
    "        title='States with highest offshore wind Energy production',\n",
    "        labels={'x':'State','y':'Energy'})"
   ]
  },
  {
   "cell_type": "code",
   "execution_count": null,
   "metadata": {},
   "outputs": [],
   "source": [
    "bs_df=df.sort_values('Bio-Solid',ascending=False)\n",
    "bs_df=bs_df[:20]\n",
    "px.bar(bs_df,x='State',y='Bio-Solid',color='State',\n",
    "        title='States with highest Bioplant-Solid Energy production',\n",
    "        labels={'x':'State','y':'Energy'})"
   ]
  },
  {
   "cell_type": "code",
   "execution_count": null,
   "metadata": {},
   "outputs": [],
   "source": [
    "bg_df=df.sort_values('Bio-gas',ascending=False)\n",
    "bg_df=bg_df[:20]\n",
    "px.bar(bg_df,x='State',y='Bio-gas',color='State',\n",
    "        title='States with highest Bioplant-Gas Energy production',\n",
    "        labels={'x':'State','y':'Energy'})"
   ]
  },
  {
   "cell_type": "code",
   "execution_count": null,
   "metadata": {},
   "outputs": [],
   "source": [
    "hy_df=df.sort_values('Hydrothermal',ascending=False)\n",
    "hy_df=hy_df[:12]\n",
    "px.bar(hy_df,x='State',y='Hydrothermal',color='State',\n",
    "        title='States with highest Hydrothermal Energy production',\n",
    "        labels={'x':'State','y':'Energy'})"
   ]
  },
  {
   "cell_type": "code",
   "execution_count": null,
   "metadata": {},
   "outputs": [],
   "source": [
    "geo_df=df.sort_values('Enhanced Geothermal',ascending=False)\n",
    "geo_df=geo_df[:20]\n",
    "px.bar(geo_df,x='State',y='Enhanced Geothermal',color='State',\n",
    "        title='States with highest Geothermal Energy production',\n",
    "        labels={'x':'State','y':'Energy'})"
   ]
  },
  {
   "cell_type": "code",
   "execution_count": null,
   "metadata": {},
   "outputs": [],
   "source": [
    "hp_df=df.sort_values('Hydropower',ascending=False)\n",
    "hp_df=hp_df[:20]\n",
    "px.bar(hp_df,x='State',y='Hydropower',color='State',\n",
    "        title='States with highest Hydropower Energy production',\n",
    "        labels={'x':'State','y':'Energy'})"
   ]
  },
  {
   "cell_type": "code",
   "execution_count": null,
   "metadata": {},
   "outputs": [],
   "source": [
    "hsc_df=df.sort_values('Hydropower Sites Count',ascending=False)\n",
    "hsc_df=hsc_df[:20]\n",
    "px.bar(hsc_df,x='State',y='Hydropower Sites Count',color='State',\n",
    "        title='States with highest Hydropower Sites Count',\n",
    "        labels={'x':'State','y':'Energy'})"
   ]
  }
 ],
 "metadata": {
  "interpreter": {
   "hash": "bf4fbbcfb44b62809ee9ef976aff62d8f85ac4ea82e40788fda9594addf376e6"
  },
  "kernelspec": {
   "display_name": "Python 3.9.7 64-bit",
   "language": "python",
   "name": "python3"
  },
  "language_info": {
   "codemirror_mode": {
    "name": "ipython",
    "version": 3
   },
   "file_extension": ".py",
   "mimetype": "text/x-python",
   "name": "python",
   "nbconvert_exporter": "python",
   "pygments_lexer": "ipython3",
   "version": "3.9.7"
  },
  "orig_nbformat": 4
 },
 "nbformat": 4,
 "nbformat_minor": 2
}
